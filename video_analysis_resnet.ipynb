{
 "cells": [
  {
   "cell_type": "markdown",
   "metadata": {},
   "source": [
    "<h1>ROCK CHALLENGE: video analysis (Resnet50)</h1>\n",
    "<p>Un précédent projet intitulé « rock challenge : image classification » visait à créer un modèle pour classer si une image contient une roche :\n",
    "    <ul>\n",
    "        <li>Larges</li>\n",
    "        <li>Médium</li>\n",
    "        <li>Pellets</li>\n",
    "        <li>Fines</li>\n",
    "    </ul>  \n",
    "</p>\n",
    "<p>C'est à partir de ce modèle que nous allons créer ce nouveau projet.</p>\n",
    "<p> - Elle consiste à analyser un flux vidéo d'un tas de roches glissant sur un tapis afin de s'assurer si le tas est homogène ou s'il contient des roches différentes.</p>\n",
    "<p> - Le système envoie des notifications en cas de détection d'impuretés ou de changement de type de roche.</p>\n",
    "<p> - L'opération se fera avec un Rasberry Pi, ce qui nous contraint à un temps de prédiction de 150ms/frame. Ici le temps d'execution sera afficher pour vérifier.</p>\n",
    "<p> - Un graphique montrant les pourcentages de chaque type de roche pour chaque image de la vidéo sera alors généré pour une vue d'ensemble.</p>"
   ]
  },
  {
   "cell_type": "markdown",
   "metadata": {},
   "source": [
    "<h2>1) Import des dépendances</h2>"
   ]
  },
  {
   "cell_type": "code",
   "execution_count": 1,
   "metadata": {},
   "outputs": [],
   "source": [
    "import numpy as np\n",
    "import cv2\n",
    "import matplotlib.pyplot as plt\n",
    "import time\n",
    "import math\n",
    "\n",
    "import tensorflow as tf\n",
    "from tensorflow import keras\n",
    "from tensorflow.keras.preprocessing import image\n",
    "from tensorflow.keras.applications.resnet50 import preprocess_input\n",
    "from tensorflow.keras import Model, layers\n",
    "from tensorflow.keras.models import load_model, model_from_json"
   ]
  },
  {
   "cell_type": "markdown",
   "metadata": {},
   "source": [
    "<h2>2) Chargement du model</h2>"
   ]
  },
  {
   "cell_type": "code",
   "execution_count": 2,
   "metadata": {},
   "outputs": [],
   "source": [
    "model = keras.models.load_model('./models/resnet50_top.h5')"
   ]
  },
  {
   "cell_type": "markdown",
   "metadata": {},
   "source": [
    "<h2>3) Les fonctions:</h2>"
   ]
  },
  {
   "cell_type": "markdown",
   "metadata": {},
   "source": [
    "<ul><li><h3>Découpage de l'image</h3><span>Découpe la frame en plusieur petit grille de taille grid_size (w, h).</span></li></ul>\n"
   ]
  },
  {
   "cell_type": "code",
   "execution_count": 3,
   "metadata": {},
   "outputs": [],
   "source": [
    "def split_image(frame, grid_size=(160, 213)):\n",
    "    H = frame.shape[0]\n",
    "    W = frame.shape[1]\n",
    "    h = grid_size[0]\n",
    "    w = grid_size[1]\n",
    "    nbr_h = H//h \n",
    "    nbr_w = W//w\n",
    "    grids = []\n",
    "    grid = np.zeros((h, w, 3))\n",
    "    \n",
    "    i=0\n",
    "    for y in range(0, H, h):\n",
    "        for x in range(0, W, w):\n",
    "            grid = frame[y:y+h, x:x+w, :]\n",
    "            grids.append(grid)\n",
    "            \n",
    "    return grids"
   ]
  },
  {
   "cell_type": "markdown",
   "metadata": {},
   "source": [
    "<ul><li><h3>Pré-traitement des grilles d'images</h3><span>Applique une pré-traitement (le même que celui utiliser lors du trainning du model) à chaque image de la liste du grilles d'image.</span></li></ul>"
   ]
  },
  {
   "cell_type": "code",
   "execution_count": 4,
   "metadata": {},
   "outputs": [],
   "source": [
    "def preprocess_images(grids):\n",
    "    dim = (160, 160)\n",
    "    X = []\n",
    "    preds = []\n",
    "    for image in grids:\n",
    "        #print(image.shape)\n",
    "        img = cv2.resize(image, dim, interpolation=cv2.INTER_LINEAR)\n",
    "        x = cv2.cvtColor(img , cv2.COLOR_BGR2RGB)\n",
    "        x = np.expand_dims(x, axis=0)\n",
    "        x = preprocess_input(x)\n",
    "        X.append(x)\n",
    "    return X"
   ]
  },
  {
   "cell_type": "markdown",
   "metadata": {},
   "source": [
    "<ul><li><h3>Prédiction</h3><span>Prédiction sur chaque images de la liste du grille d'image .</span></li></ul>"
   ]
  },
  {
   "cell_type": "code",
   "execution_count": 5,
   "metadata": {},
   "outputs": [],
   "source": [
    "def predict_image_list(model, X):\n",
    "    preds = []\n",
    "    for x in model.predict(np.vstack(X)):\n",
    "        preds.append(np.argmax(x))\n",
    "    return preds"
   ]
  },
  {
   "cell_type": "markdown",
   "metadata": {},
   "source": [
    "<ul><li><h3>Affichage de la vidéo</h3><span></span></li></ul>"
   ]
  },
  {
   "cell_type": "code",
   "execution_count": 6,
   "metadata": {},
   "outputs": [],
   "source": [
    "def display_video (filepath) :\n",
    "    cap = cv2.VideoCapture(filepath)\n",
    "    predictions = []\n",
    "    i = 0\n",
    "    times = []\n",
    "    print(\"Temps moyenne d'execution par 100 frame: \")\n",
    "    while True:\n",
    "        i+=1\n",
    "        start = time.time()\n",
    "        ret, frame = cap.read()\n",
    "\n",
    "        if ret == False:\n",
    "            break\n",
    "\n",
    "        grids = split_image(frame, (math.ceil(480/3), math.ceil(640/3)))\n",
    "        X     = preprocess_images(grids)\n",
    "        preds = predict_image_list(model, X)\n",
    "        predictions.append(preds)\n",
    "\n",
    "        #if len(np.unique(preds)) > 1:\n",
    "        #   print('Mixed or changed on frame number: ',i)\n",
    "\n",
    "        end = time.time()\n",
    "        times.append(end - start)\n",
    "        if i%100 == 0:\n",
    "            print('     - dernier frame:', i , ' , temps moyenne d\\'execution : ', round(sum(times)/len(times), 1) * 1000, ' ms' )\n",
    "            times = []\n",
    "    return predictions"
   ]
  },
  {
   "cell_type": "markdown",
   "metadata": {},
   "source": [
    "<ul><li><h3>Normalisation des données de prédiction</h3><span>Calcule du pourcentage de chaque type de roche (d'apres la prédiction) dans une frame</span></li></ul>"
   ]
  },
  {
   "cell_type": "code",
   "execution_count": 7,
   "metadata": {},
   "outputs": [],
   "source": [
    "def normalise_preds(predictions):\n",
    "    predictions_100 = []\n",
    "    for pred in predictions:\n",
    "        pred_100     = []\n",
    "        class_counts = [] \n",
    "        uniques, counts = np.unique(pred, return_counts=True)\n",
    "        \n",
    "        for i in range (4):\n",
    "            if i in uniques:\n",
    "                index,  = np.where(uniques == i)\n",
    "                class_counts.append(counts[index[0]])\n",
    "            else:\n",
    "                class_counts.append(0)\n",
    "\n",
    "        for i in class_counts:\n",
    "            pred_100.append(round(i/9*100, 1))\n",
    "\n",
    "        predictions_100.append(pred_100)\n",
    "        \n",
    "    return predictions_100"
   ]
  },
  {
   "cell_type": "markdown",
   "metadata": {},
   "source": [
    "<ul><li><h3>Affichage du graphique</h3><span>Chaque couleur correspond à un type de roche et chaque barre verticale correspond a une frame. La hauteur de la couleur correspond au pourcentage de ce roche dans chaque frame.</span></li></ul>"
   ]
  },
  {
   "cell_type": "code",
   "execution_count": 8,
   "metadata": {},
   "outputs": [],
   "source": [
    "def show_graph(predictions_100):\n",
    "\n",
    "    labels = ['fines', 'larges', 'medium', 'pellets']\n",
    "    data = np.array(predictions_100)\n",
    "    x    = np.arange(data.shape[0])\n",
    "\n",
    "    fig, ax=plt.subplots(figsize=(20,10))\n",
    "    for i in range(data.shape[1]):\n",
    "        bottom=np.sum(data[:,0:i], axis=1)  \n",
    "        ax.bar(x,data[:,i], width=1.0, bottom=bottom, label=labels[i])\n",
    "\n",
    "    plt.legend(framealpha=1)\n",
    "    plt.show()"
   ]
  },
  {
   "cell_type": "markdown",
   "metadata": {},
   "source": [
    "<h2>4) Execution</h2>"
   ]
  },
  {
   "cell_type": "markdown",
   "metadata": {},
   "source": [
    "<ul><li><h3>Video 1</h3></li></ul>"
   ]
  },
  {
   "cell_type": "code",
   "execution_count": 9,
   "metadata": {},
   "outputs": [
    {
     "name": "stdout",
     "output_type": "stream",
     "text": [
      "Temps moyenne d'execution par 100 frame: \n",
      "     - dernier frame: 100  , temps moyenne d'execution :  300.0  ms\n",
      "     - dernier frame: 200  , temps moyenne d'execution :  100.0  ms\n",
      "     - dernier frame: 300  , temps moyenne d'execution :  100.0  ms\n",
      "     - dernier frame: 400  , temps moyenne d'execution :  200.0  ms\n",
      "     - dernier frame: 500  , temps moyenne d'execution :  200.0  ms\n",
      "     - dernier frame: 600  , temps moyenne d'execution :  200.0  ms\n",
      "     - dernier frame: 700  , temps moyenne d'execution :  200.0  ms\n",
      "     - dernier frame: 800  , temps moyenne d'execution :  200.0  ms\n",
      "     - dernier frame: 900  , temps moyenne d'execution :  200.0  ms\n",
      "     - dernier frame: 1000  , temps moyenne d'execution :  200.0  ms\n",
      "     - dernier frame: 1100  , temps moyenne d'execution :  200.0  ms\n",
      "     - dernier frame: 1200  , temps moyenne d'execution :  200.0  ms\n",
      "     - dernier frame: 1300  , temps moyenne d'execution :  200.0  ms\n",
      "     - dernier frame: 1400  , temps moyenne d'execution :  200.0  ms\n"
     ]
    }
   ],
   "source": [
    "predictions = display_video(\"./data/bin_1.mp4\")"
   ]
  },
  {
   "cell_type": "code",
   "execution_count": 10,
   "metadata": {},
   "outputs": [
    {
     "data": {
      "image/png": "[encoded data removed]",
      "text/plain": [
       "<Figure size 1440x720 with 1 Axes>"
      ]
     },
     "metadata": {
      "needs_background": "light"
     },
     "output_type": "display_data"
    }
   ],
   "source": [
    "predictions_100 = normalise_preds(predictions)\n",
    "show_graph(predictions_100)"
   ]
  },
  {
   "cell_type": "markdown",
   "metadata": {},
   "source": [
    "<ul><li><h3>Video 2</h3></li></ul>"
   ]
  },
  {
   "cell_type": "code",
   "execution_count": 11,
   "metadata": {},
   "outputs": [
    {
     "name": "stdout",
     "output_type": "stream",
     "text": [
      "Temps moyenne d'execution par 100 frame: \n",
      "     - dernier frame: 100  , temps moyenne d'execution :  100.0  ms\n",
      "     - dernier frame: 200  , temps moyenne d'execution :  200.0  ms\n",
      "     - dernier frame: 300  , temps moyenne d'execution :  200.0  ms\n",
      "     - dernier frame: 400  , temps moyenne d'execution :  200.0  ms\n",
      "     - dernier frame: 500  , temps moyenne d'execution :  200.0  ms\n",
      "     - dernier frame: 600  , temps moyenne d'execution :  200.0  ms\n",
      "     - dernier frame: 700  , temps moyenne d'execution :  200.0  ms\n",
      "     - dernier frame: 800  , temps moyenne d'execution :  200.0  ms\n",
      "     - dernier frame: 900  , temps moyenne d'execution :  200.0  ms\n",
      "     - dernier frame: 1000  , temps moyenne d'execution :  300.0  ms\n",
      "     - dernier frame: 1100  , temps moyenne d'execution :  200.0  ms\n",
      "     - dernier frame: 1200  , temps moyenne d'execution :  200.0  ms\n",
      "     - dernier frame: 1300  , temps moyenne d'execution :  200.0  ms\n",
      "     - dernier frame: 1400  , temps moyenne d'execution :  200.0  ms\n"
     ]
    }
   ],
   "source": [
    "predictions = display_video(\"./data/bin_2.mp4\")"
   ]
  },
  {
   "cell_type": "code",
   "execution_count": 12,
   "metadata": {},
   "outputs": [
    {
     "data": {
      "image/png": "[encoded data removed]",
      "text/plain": [
       "<Figure size 1440x720 with 1 Axes>"
      ]
     },
     "metadata": {
      "needs_background": "light"
     },
     "output_type": "display_data"
    }
   ],
   "source": [
    "predictions_100 = normalise_preds(predictions)\n",
    "show_graph(predictions_100)"
   ]
  },
  {
   "cell_type": "markdown",
   "metadata": {},
   "source": [
    "<ul><li><h3>Video 3</h3></li></ul>"
   ]
  },
  {
   "cell_type": "code",
   "execution_count": 13,
   "metadata": {},
   "outputs": [
    {
     "name": "stdout",
     "output_type": "stream",
     "text": [
      "Temps moyenne d'execution par 100 frame: \n",
      "     - dernier frame: 100  , temps moyenne d'execution :  200.0  ms\n",
      "     - dernier frame: 200  , temps moyenne d'execution :  200.0  ms\n",
      "     - dernier frame: 300  , temps moyenne d'execution :  200.0  ms\n",
      "     - dernier frame: 400  , temps moyenne d'execution :  200.0  ms\n",
      "     - dernier frame: 500  , temps moyenne d'execution :  300.0  ms\n",
      "     - dernier frame: 600  , temps moyenne d'execution :  200.0  ms\n",
      "     - dernier frame: 700  , temps moyenne d'execution :  200.0  ms\n",
      "     - dernier frame: 800  , temps moyenne d'execution :  200.0  ms\n",
      "     - dernier frame: 900  , temps moyenne d'execution :  200.0  ms\n",
      "     - dernier frame: 1000  , temps moyenne d'execution :  200.0  ms\n",
      "     - dernier frame: 1100  , temps moyenne d'execution :  200.0  ms\n",
      "     - dernier frame: 1200  , temps moyenne d'execution :  200.0  ms\n",
      "     - dernier frame: 1300  , temps moyenne d'execution :  200.0  ms\n",
      "     - dernier frame: 1400  , temps moyenne d'execution :  200.0  ms\n"
     ]
    }
   ],
   "source": [
    "predictions = display_video(\"./data/bin_3.mp4\")"
   ]
  },
  {
   "cell_type": "code",
   "execution_count": 14,
   "metadata": {},
   "outputs": [
    {
     "data": {
      "image/png": "[encoded data removed]",
      "text/plain": [
       "<Figure size 1440x720 with 1 Axes>"
      ]
     },
     "metadata": {
      "needs_background": "light"
     },
     "output_type": "display_data"
    }
   ],
   "source": [
    "predictions_100 = normalise_preds(predictions)\n",
    "show_graph(predictions_100)"
   ]
  },
  {
   "cell_type": "markdown",
   "metadata": {},
   "source": [
    "<ul><li><h3>Video 4</h3></li></ul>"
   ]
  },
  {
   "cell_type": "code",
   "execution_count": 15,
   "metadata": {},
   "outputs": [
    {
     "name": "stdout",
     "output_type": "stream",
     "text": [
      "Temps moyenne d'execution par 100 frame: \n",
      "     - dernier frame: 100  , temps moyenne d'execution :  200.0  ms\n",
      "     - dernier frame: 200  , temps moyenne d'execution :  200.0  ms\n",
      "     - dernier frame: 300  , temps moyenne d'execution :  200.0  ms\n",
      "     - dernier frame: 400  , temps moyenne d'execution :  200.0  ms\n",
      "     - dernier frame: 500  , temps moyenne d'execution :  200.0  ms\n",
      "     - dernier frame: 600  , temps moyenne d'execution :  200.0  ms\n",
      "     - dernier frame: 700  , temps moyenne d'execution :  200.0  ms\n",
      "     - dernier frame: 800  , temps moyenne d'execution :  200.0  ms\n",
      "     - dernier frame: 900  , temps moyenne d'execution :  200.0  ms\n",
      "     - dernier frame: 1000  , temps moyenne d'execution :  200.0  ms\n",
      "     - dernier frame: 1100  , temps moyenne d'execution :  200.0  ms\n",
      "     - dernier frame: 1200  , temps moyenne d'execution :  200.0  ms\n",
      "     - dernier frame: 1300  , temps moyenne d'execution :  200.0  ms\n",
      "     - dernier frame: 1400  , temps moyenne d'execution :  200.0  ms\n"
     ]
    }
   ],
   "source": [
    "predictions = display_video(\"./data/bin_4.mp4\")"
   ]
  },
  {
   "cell_type": "code",
   "execution_count": 16,
   "metadata": {},
   "outputs": [
    {
     "data": {
      "image/png": "[encoded data removed]",
      "text/plain": [
       "<Figure size 1440x720 with 1 Axes>"
      ]
     },
     "metadata": {
      "needs_background": "light"
     },
     "output_type": "display_data"
    }
   ],
   "source": [
    "predictions_100 = normalise_preds(predictions)\n",
    "show_graph(predictions_100)"
   ]
  },
  {
   "cell_type": "markdown",
   "metadata": {},
   "source": [
    "<ul><li><h3>Video 5</h3></li></ul>"
   ]
  },
  {
   "cell_type": "code",
   "execution_count": 17,
   "metadata": {},
   "outputs": [
    {
     "name": "stdout",
     "output_type": "stream",
     "text": [
      "Temps moyenne d'execution par 100 frame: \n",
      "     - dernier frame: 100  , temps moyenne d'execution :  200.0  ms\n",
      "     - dernier frame: 200  , temps moyenne d'execution :  200.0  ms\n",
      "     - dernier frame: 300  , temps moyenne d'execution :  200.0  ms\n",
      "     - dernier frame: 400  , temps moyenne d'execution :  200.0  ms\n",
      "     - dernier frame: 500  , temps moyenne d'execution :  200.0  ms\n",
      "     - dernier frame: 600  , temps moyenne d'execution :  200.0  ms\n",
      "     - dernier frame: 700  , temps moyenne d'execution :  200.0  ms\n",
      "     - dernier frame: 800  , temps moyenne d'execution :  200.0  ms\n",
      "     - dernier frame: 900  , temps moyenne d'execution :  300.0  ms\n",
      "     - dernier frame: 1000  , temps moyenne d'execution :  200.0  ms\n",
      "     - dernier frame: 1100  , temps moyenne d'execution :  200.0  ms\n",
      "     - dernier frame: 1200  , temps moyenne d'execution :  200.0  ms\n",
      "     - dernier frame: 1300  , temps moyenne d'execution :  200.0  ms\n",
      "     - dernier frame: 1400  , temps moyenne d'execution :  200.0  ms\n"
     ]
    }
   ],
   "source": [
    "predictions = display_video(\"./data/bin_5.mp4\")"
   ]
  },
  {
   "cell_type": "code",
   "execution_count": 18,
   "metadata": {},
   "outputs": [
    {
     "data": {
      "image/png": "[encoded data removed]",
      "text/plain": [
       "<Figure size 1440x720 with 1 Axes>"
      ]
     },
     "metadata": {
      "needs_background": "light"
     },
     "output_type": "display_data"
    }
   ],
   "source": [
    "predictions_100 = normalise_preds(predictions)\n",
    "show_graph(predictions_100)"
   ]
  },
  {
   "cell_type": "markdown",
   "metadata": {},
   "source": [
    "<ul><li><h3>Video 6</h3></li></ul>"
   ]
  },
  {
   "cell_type": "code",
   "execution_count": 19,
   "metadata": {},
   "outputs": [
    {
     "name": "stdout",
     "output_type": "stream",
     "text": [
      "Temps moyenne d'execution par 100 frame: \n",
      "     - dernier frame: 100  , temps moyenne d'execution :  200.0  ms\n",
      "     - dernier frame: 200  , temps moyenne d'execution :  200.0  ms\n",
      "     - dernier frame: 300  , temps moyenne d'execution :  200.0  ms\n",
      "     - dernier frame: 400  , temps moyenne d'execution :  200.0  ms\n",
      "     - dernier frame: 500  , temps moyenne d'execution :  200.0  ms\n",
      "     - dernier frame: 600  , temps moyenne d'execution :  200.0  ms\n",
      "     - dernier frame: 700  , temps moyenne d'execution :  200.0  ms\n",
      "     - dernier frame: 800  , temps moyenne d'execution :  200.0  ms\n",
      "     - dernier frame: 900  , temps moyenne d'execution :  200.0  ms\n",
      "     - dernier frame: 1000  , temps moyenne d'execution :  200.0  ms\n",
      "     - dernier frame: 1100  , temps moyenne d'execution :  200.0  ms\n",
      "     - dernier frame: 1200  , temps moyenne d'execution :  200.0  ms\n",
      "     - dernier frame: 1300  , temps moyenne d'execution :  200.0  ms\n",
      "     - dernier frame: 1400  , temps moyenne d'execution :  200.0  ms\n"
     ]
    }
   ],
   "source": [
    "predictions = display_video(\"./data/bin_6.mp4\")"
   ]
  },
  {
   "cell_type": "code",
   "execution_count": 20,
   "metadata": {},
   "outputs": [
    {
     "data": {
      "image/png": "[encoded data removed]",
      "text/plain": [
       "<Figure size 1440x720 with 1 Axes>"
      ]
     },
     "metadata": {
      "needs_background": "light"
     },
     "output_type": "display_data"
    }
   ],
   "source": [
    "predictions_100 = normalise_preds(predictions)\n",
    "show_graph(predictions_100)"
   ]
  },
  {
   "cell_type": "markdown",
   "metadata": {},
   "source": [
    "<ul><li><h3>Video 7</h3></li></ul>"
   ]
  },
  {
   "cell_type": "code",
   "execution_count": 21,
   "metadata": {},
   "outputs": [
    {
     "name": "stdout",
     "output_type": "stream",
     "text": [
      "Temps moyenne d'execution par 100 frame: \n",
      "     - dernier frame: 100  , temps moyenne d'execution :  200.0  ms\n",
      "     - dernier frame: 200  , temps moyenne d'execution :  200.0  ms\n",
      "     - dernier frame: 300  , temps moyenne d'execution :  200.0  ms\n",
      "     - dernier frame: 400  , temps moyenne d'execution :  200.0  ms\n",
      "     - dernier frame: 500  , temps moyenne d'execution :  200.0  ms\n",
      "     - dernier frame: 600  , temps moyenne d'execution :  200.0  ms\n",
      "     - dernier frame: 700  , temps moyenne d'execution :  200.0  ms\n",
      "     - dernier frame: 800  , temps moyenne d'execution :  200.0  ms\n",
      "     - dernier frame: 900  , temps moyenne d'execution :  200.0  ms\n",
      "     - dernier frame: 1000  , temps moyenne d'execution :  200.0  ms\n",
      "     - dernier frame: 1100  , temps moyenne d'execution :  300.0  ms\n",
      "     - dernier frame: 1200  , temps moyenne d'execution :  200.0  ms\n",
      "     - dernier frame: 1300  , temps moyenne d'execution :  200.0  ms\n",
      "     - dernier frame: 1400  , temps moyenne d'execution :  200.0  ms\n"
     ]
    }
   ],
   "source": [
    "predictions = display_video(\"./data/bin_7.mp4\")"
   ]
  },
  {
   "cell_type": "code",
   "execution_count": 22,
   "metadata": {},
   "outputs": [
    {
     "data": {
      "image/png": "[encoded data removed]",
      "text/plain": [
       "<Figure size 1440x720 with 1 Axes>"
      ]
     },
     "metadata": {
      "needs_background": "light"
     },
     "output_type": "display_data"
    }
   ],
   "source": [
    "predictions_100 = normalise_preds(predictions)\n",
    "show_graph(predictions_100)"
   ]
  }
 ],
 "metadata": {
  "interpreter": {
   "hash": "b3ba2566441a7c06988d0923437866b63cedc61552a5af99d1f4fb67d367b25f"
  },
  "kernelspec": {
   "display_name": "Python 3.8.5 64-bit",
   "language": "python",
   "name": "python3"
  },
  "language_info": {
   "codemirror_mode": {
    "name": "ipython",
    "version": 3
   },
   "file_extension": ".py",
   "mimetype": "text/x-python",
   "name": "python",
   "nbconvert_exporter": "python",
   "pygments_lexer": "ipython3",
   "version": "3.9.7"
  },
  "orig_nbformat": 4
 },
 "nbformat": 4,
 "nbformat_minor": 2
}
